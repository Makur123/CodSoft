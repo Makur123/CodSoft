{
 "cells": [
  {
   "cell_type": "markdown",
   "id": "3c4d3423",
   "metadata": {},
   "source": [
    "\n",
    "***Movie Genre Classification using TF-IDF and Naive Bayes***"
   ]
  },
  {
   "cell_type": "markdown",
   "id": "af260c24",
   "metadata": {},
   "source": [
    "Aim is to build a machine learning model to predict the genre of a movie based on its plot summary or textual information. To achieve this, we will leverage natural language processing (NLP) techniques, specifically TF-IDF (Term Frequency-Inverse Document Frequency), in conjunction with the Naive Bayes classification algorithm.\n",
    "\n",
    "The primary goal is to create a model that can automatically assign one or more genres to a movie based on the textual description provided. This can be valuable for categorizing and organizing movies in databases, recommendation systems, and content filtering."
   ]
  },
  {
   "cell_type": "markdown",
   "id": "0bbcdaaa",
   "metadata": {},
   "source": [
    "Importing Libaries\n"
   ]
  },
  {
   "cell_type": "code",
   "execution_count": 49,
   "id": "91778c03",
   "metadata": {},
   "outputs": [],
   "source": [
    "import pandas as pd\n",
    "import numpy as np\n",
    "import matplotlib.pyplot as plt\n",
    "import seaborn as sns\n",
    "import re\n",
    "import nltk\n",
    "import string\n",
    "from nltk.corpus import stopwords\n",
    "from nltk.stem import WordNetLemmatizer\n",
    "from sklearn.feature_extraction.text import TfidfVectorizer\n",
    "from sklearn.model_selection import train_test_split\n",
    "from sklearn.naive_bayes import MultinomialNB\n",
    "from sklearn.metrics import accuracy_score, classification_report, confusion_matrix\n",
    "from sklearn.pipeline import Pipeline\n",
    "from sklearn.preprocessing import LabelEncoder"
   ]
  },
  {
   "cell_type": "code",
   "execution_count": 51,
   "id": "b17d9694",
   "metadata": {},
   "outputs": [
    {
     "name": "stderr",
     "output_type": "stream",
     "text": [
      "[nltk_data] Downloading package stopwords to\n",
      "[nltk_data]     C:\\Users\\dhuor\\AppData\\Roaming\\nltk_data...\n",
      "[nltk_data]   Package stopwords is already up-to-date!\n",
      "[nltk_data] Downloading package wordnet to\n",
      "[nltk_data]     C:\\Users\\dhuor\\AppData\\Roaming\\nltk_data...\n",
      "[nltk_data]   Package wordnet is already up-to-date!\n",
      "[nltk_data] Downloading package punkt to\n",
      "[nltk_data]     C:\\Users\\dhuor\\AppData\\Roaming\\nltk_data...\n",
      "[nltk_data]   Package punkt is already up-to-date!\n"
     ]
    }
   ],
   "source": [
    "# Download necessary NLTK resources\n",
    "nltk.download('stopwords')\n",
    "nltk.download('wordnet')\n",
    "nltk.download('punkt')\n",
    "nltk.data.path.append(r'C:\\Users\\dhuor\\nltk_data')  # Adjust to the actual path to nltk_data directory\n"
   ]
  },
  {
   "cell_type": "markdown",
   "id": "202fc1bc",
   "metadata": {},
   "source": [
    "\n",
    "## 2. Load Data and Preprocess it.\n",
    "\n",
    "Data preprocessing is a crucial step in preparing the dataset for effective and efficient machine learning. In this project, the primary focus is on cleaning and transforming textual data (plot summaries) and handling the multi-label nature of movie genres.\n",
    "\n",
    "### 2.1 Text Cleaning\n",
    "\n",
    "To make the plot summaries usable for machine learning models, we perform the following text cleaning steps:\n",
    "\n",
    "- **Lowercasing:** Convert all text to lowercase to ensure uniformity.\n",
    "- **Removing Special Characters and Numbers:** Eliminate punctuation, symbols, and numeric characters that do not contribute to semantic meaning.\n",
    "- **Stopwords Removal:** Remove common words like \"the\", \"and\", \"is\", etc., which do not add value to text classification.\n",
    "- **Tokenization:** Split the plot text into individual words (tokens).\n",
    "- **Lemmatization/Stemming:** Reduce words to their root forms (e.g., \"running\" → \"run\") to consolidate similar terms.\n",
    "\n",
    "### 2.2 Genre Encoding\n",
    "\n",
    "Since movies can belong to multiple genres simultaneously, this is treated as a **multi-label classification** problem. To prepare the genre labels:\n",
    "\n",
    "- **One-Hot Encoding:** Each unique genre is represented as a binary column. If a movie belongs to a genre, the corresponding column is marked as `1`, else `0`.\n",
    "\n",
    "Example:\n",
    "\n",
    "| Movie Title     | Action | Comedy | Drama |\n",
    "|------------------|--------|--------|-------|\n",
    "| Avengers         |   1    |   0    |   0   |\n",
    "| The Mask         |   0    |   1    |   0   |\n",
    "| The Pursuit...   |   0    |   0    |   1   |\n",
    "| Life is Beautiful|   0    |   1    |   1   |\n",
    "\n",
    "### 2.3 Train-Test Split\n",
    "\n",
    "To evaluate the model’s generalization capability, the dataset is divided into:\n",
    "\n",
    "- **Training Set:** (e.g., 80%) Used for training the model.\n",
    "- **Test Set:** (e.g., 20%) Used for evaluating the model on unseen data.\n",
    "\n",
    "This ensures that the model performance reflects real-world prediction capability.\n",
    "\n",
    "---\n",
    "\n",
    "This preprocessing pipeline ensures that the textual and categorical data is ready for effective feature extraction and model training in the subsequent stages.\n"
   ]
  },
  {
   "cell_type": "code",
   "execution_count": 58,
   "id": "6ad0c786",
   "metadata": {},
   "outputs": [
    {
     "name": "stdout",
     "output_type": "stream",
     "text": [
      "Genres DataFrame:\n",
      "   id       name\n",
      "0  28     Action\n",
      "1  12  Adventure\n",
      "2  16  Animation\n",
      "3  35     Comedy\n",
      "4  80      Crime\n",
      "\n",
      "Overview DataFrame:\n",
      "                      title  \\\n",
      "0  The Shawshank Redemption   \n",
      "1             The Godfather   \n",
      "2     The Godfather Part II   \n",
      "3          Schindler's List   \n",
      "4              12 Angry Men   \n",
      "\n",
      "                                            overview        genre_ids  \n",
      "0  Imprisoned in the 1940s for the double murder ...         [18, 80]  \n",
      "1  Spanning the years 1945 to 1955, a chronicle o...         [18, 80]  \n",
      "2  In the continuing saga of the Corleone crime f...         [18, 80]  \n",
      "3  The true story of how businessman Oskar Schind...  [18, 36, 10752]  \n",
      "4  The defense and the prosecution have rested an...             [18]  \n",
      "\n",
      "Checking missing values in genres_df:\n",
      "id      0\n",
      "name    0\n",
      "dtype: int64\n",
      "\n",
      "Checking missing values in overview_df:\n",
      "title        0\n",
      "overview     0\n",
      "genre_ids    0\n",
      "dtype: int64\n",
      "\n",
      "Updated Overview DataFrame with Genre Names:\n",
      "                                            overview    genre\n",
      "0  Imprisoned in the 1940s for the double murder ...  Unknown\n",
      "1  Spanning the years 1945 to 1955, a chronicle o...  Unknown\n",
      "2  In the continuing saga of the Corleone crime f...  Unknown\n",
      "3  The true story of how businessman Oskar Schind...  Unknown\n",
      "4  The defense and the prosecution have rested an...  Unknown\n"
     ]
    }
   ],
   "source": [
    "# Load the genre data (movies_genres)\n",
    "genres_df = pd.read_csv('Movie Genre Dataset/movies_genres.csv')\n",
    "print(\"Genres DataFrame:\")\n",
    "print(genres_df.head())\n",
    "\n",
    "# Load the overview data (movies_overview)\n",
    "overview_df = pd.read_csv('Movie Genre Dataset/movies_overview.csv')\n",
    "print(\"\\nOverview DataFrame:\")\n",
    "print(overview_df.head())\n",
    "\n",
    "# Check for any missing values in the genre and overview columns\n",
    "print(\"\\nChecking missing values in genres_df:\")\n",
    "print(genres_df.isnull().sum())\n",
    "\n",
    "print(\"\\nChecking missing values in overview_df:\")\n",
    "print(overview_df.isnull().sum())\n",
    "\n",
    "# Optional: If 'genre_ids' exists in overview_df, map the genre_ids to actual genre names\n",
    "# Ensure 'genre_ids' in the overview matches 'id' in genres_df\n",
    "genre_mapping = dict(zip(genres_df['id'], genres_df['name']))\n",
    "\n",
    "# Function to map genre_ids to genre names\n",
    "def map_genre(genre_id_str):\n",
    "    try:\n",
    "        genre_id = int(genre_id_str.split()[0])  # Assuming genre_ids might be space-separated\n",
    "    except Exception:\n",
    "        return 'Unknown'\n",
    "    return genre_mapping.get(genre_id, 'Unknown')\n",
    "\n",
    "# Apply the genre mapping to the overview dataframe\n",
    "overview_df['genre'] = overview_df['genre_ids'].apply(map_genre)\n",
    "\n",
    "# Display the first few rows of the updated overview dataframe\n",
    "print(\"\\nUpdated Overview DataFrame with Genre Names:\")\n",
    "print(overview_df[['overview', 'genre']].head())\n"
   ]
  },
  {
   "cell_type": "code",
   "execution_count": 59,
   "id": "99f9c2b9",
   "metadata": {},
   "outputs": [
    {
     "data": {
      "text/html": [
       "<div>\n",
       "<style scoped>\n",
       "    .dataframe tbody tr th:only-of-type {\n",
       "        vertical-align: middle;\n",
       "    }\n",
       "\n",
       "    .dataframe tbody tr th {\n",
       "        vertical-align: top;\n",
       "    }\n",
       "\n",
       "    .dataframe thead th {\n",
       "        text-align: right;\n",
       "    }\n",
       "</style>\n",
       "<table border=\"1\" class=\"dataframe\">\n",
       "  <thead>\n",
       "    <tr style=\"text-align: right;\">\n",
       "      <th></th>\n",
       "      <th>title</th>\n",
       "      <th>overview</th>\n",
       "      <th>genre_ids</th>\n",
       "      <th>genre</th>\n",
       "    </tr>\n",
       "  </thead>\n",
       "  <tbody>\n",
       "    <tr>\n",
       "      <th>count</th>\n",
       "      <td>9980</td>\n",
       "      <td>9980</td>\n",
       "      <td>9980</td>\n",
       "      <td>9980</td>\n",
       "    </tr>\n",
       "    <tr>\n",
       "      <th>unique</th>\n",
       "      <td>9615</td>\n",
       "      <td>9971</td>\n",
       "      <td>2222</td>\n",
       "      <td>1</td>\n",
       "    </tr>\n",
       "    <tr>\n",
       "      <th>top</th>\n",
       "      <td>Return</td>\n",
       "      <td>Wilbur the pig is scared of the end of the sea...</td>\n",
       "      <td>[18]</td>\n",
       "      <td>Unknown</td>\n",
       "    </tr>\n",
       "    <tr>\n",
       "      <th>freq</th>\n",
       "      <td>13</td>\n",
       "      <td>2</td>\n",
       "      <td>577</td>\n",
       "      <td>9980</td>\n",
       "    </tr>\n",
       "  </tbody>\n",
       "</table>\n",
       "</div>"
      ],
      "text/plain": [
       "         title                                           overview genre_ids  \\\n",
       "count     9980                                               9980      9980   \n",
       "unique    9615                                               9971      2222   \n",
       "top     Return  Wilbur the pig is scared of the end of the sea...      [18]   \n",
       "freq        13                                                  2       577   \n",
       "\n",
       "          genre  \n",
       "count      9980  \n",
       "unique        1  \n",
       "top     Unknown  \n",
       "freq       9980  "
      ]
     },
     "execution_count": 59,
     "metadata": {},
     "output_type": "execute_result"
    }
   ],
   "source": [
    "overview_df.describe()"
   ]
  },
  {
   "cell_type": "code",
   "execution_count": 60,
   "id": "ff03e22e",
   "metadata": {},
   "outputs": [
    {
     "data": {
      "text/plain": [
       "title        0\n",
       "overview     0\n",
       "genre_ids    0\n",
       "genre        0\n",
       "dtype: int64"
      ]
     },
     "execution_count": 60,
     "metadata": {},
     "output_type": "execute_result"
    }
   ],
   "source": [
    "overview_df.isnull().sum()"
   ]
  },
  {
   "cell_type": "code",
   "execution_count": 61,
   "id": "8e8e3861",
   "metadata": {},
   "outputs": [
    {
     "name": "stdout",
     "output_type": "stream",
     "text": [
      "<class 'pandas.core.frame.DataFrame'>\n",
      "RangeIndex: 9980 entries, 0 to 9979\n",
      "Data columns (total 4 columns):\n",
      " #   Column     Non-Null Count  Dtype \n",
      "---  ------     --------------  ----- \n",
      " 0   title      9980 non-null   object\n",
      " 1   overview   9980 non-null   object\n",
      " 2   genre_ids  9980 non-null   object\n",
      " 3   genre      9980 non-null   object\n",
      "dtypes: object(4)\n",
      "memory usage: 312.0+ KB\n"
     ]
    }
   ],
   "source": [
    "overview_df.info()"
   ]
  },
  {
   "cell_type": "code",
   "execution_count": 62,
   "id": "3f6899da",
   "metadata": {},
   "outputs": [
    {
     "name": "stdout",
     "output_type": "stream",
     "text": [
      "<class 'pandas.core.frame.DataFrame'>\n",
      "RangeIndex: 19 entries, 0 to 18\n",
      "Data columns (total 2 columns):\n",
      " #   Column  Non-Null Count  Dtype \n",
      "---  ------  --------------  ----- \n",
      " 0   id      19 non-null     int64 \n",
      " 1   name    19 non-null     object\n",
      "dtypes: int64(1), object(1)\n",
      "memory usage: 436.0+ bytes\n"
     ]
    }
   ],
   "source": [
    "genres_df.info()"
   ]
  },
  {
   "cell_type": "markdown",
   "id": "40502fa7",
   "metadata": {},
   "source": [
    "**Feature Engineering**"
   ]
  },
  {
   "cell_type": "code",
   "execution_count": 65,
   "id": "5810dfda",
   "metadata": {},
   "outputs": [
    {
     "name": "stdout",
     "output_type": "stream",
     "text": [
      "Shape of feature matrix: (9980, 27010)\n"
     ]
    }
   ],
   "source": [
    "from sklearn.feature_extraction.text import TfidfVectorizer\n",
    "\n",
    "# Initialize the TfidfVectorizer\n",
    "vectorizer = TfidfVectorizer(stop_words='english')\n",
    "\n",
    "# Fit the vectorizer on the overviews and transform them into numerical features\n",
    "X = vectorizer.fit_transform(overview_df['overview'])\n",
    "\n",
    "# Check the shape of the resulting matrix (number of samples x number of features)\n",
    "print(f\"Shape of feature matrix: {X.shape}\")\n"
   ]
  },
  {
   "cell_type": "markdown",
   "id": "c1314dd4",
   "metadata": {},
   "source": [
    "***Train-Test Split***"
   ]
  },
  {
   "cell_type": "code",
   "execution_count": 66,
   "id": "1b7daf12",
   "metadata": {},
   "outputs": [
    {
     "name": "stdout",
     "output_type": "stream",
     "text": [
      "Training set size: 7984\n",
      "Test set size: 1996\n"
     ]
    }
   ],
   "source": [
    "from sklearn.model_selection import train_test_split\n",
    "\n",
    "# Define the target variable (genre)\n",
    "y = overview_df['genre']\n",
    "\n",
    "# Split the data into training and testing sets\n",
    "X_train, X_test, y_train, y_test = train_test_split(X, y, test_size=0.2, random_state=42, stratify=y)\n",
    "\n",
    "# Print the shape of the training and testing sets\n",
    "print(f\"Training set size: {X_train.shape[0]}\")\n",
    "print(f\"Test set size: {X_test.shape[0]}\")\n"
   ]
  },
  {
   "cell_type": "markdown",
   "id": "b4055ffa",
   "metadata": {},
   "source": [
    "***Model Building (Naive Bayes)***"
   ]
  },
  {
   "cell_type": "code",
   "execution_count": 67,
   "id": "7b8bdcb8",
   "metadata": {},
   "outputs": [
    {
     "name": "stdout",
     "output_type": "stream",
     "text": [
      "Model trained successfully!\n"
     ]
    }
   ],
   "source": [
    "from sklearn.naive_bayes import MultinomialNB\n",
    "\n",
    "# Initialize the Naive Bayes classifier\n",
    "model = MultinomialNB()\n",
    "\n",
    "# Train the model on the training data\n",
    "model.fit(X_train, y_train)\n",
    "\n",
    "# Print the model training completion message\n",
    "print(\"Model trained successfully!\")\n"
   ]
  },
  {
   "cell_type": "markdown",
   "id": "42d41e6f",
   "metadata": {},
   "source": [
    "**Model Evaluation**"
   ]
  },
  {
   "cell_type": "code",
   "execution_count": null,
   "id": "61a36efe",
   "metadata": {},
   "outputs": [
    {
     "name": "stdout",
     "output_type": "stream",
     "text": [
      "Accuracy of the Naive Bayes model: 1.00\n",
      "Classification Report:\n",
      "              precision    recall  f1-score   support\n",
      "\n",
      "     Unknown       1.00      1.00      1.00      1996\n",
      "\n",
      "    accuracy                           1.00      1996\n",
      "   macro avg       1.00      1.00      1.00      1996\n",
      "weighted avg       1.00      1.00      1.00      1996\n",
      "\n"
     ]
    },
    {
     "name": "stderr",
     "output_type": "stream",
     "text": [
      "c:\\Users\\dhuor\\CodSoft\\.conda\\Lib\\site-packages\\sklearn\\metrics\\_classification.py:407: UserWarning: A single label was found in 'y_true' and 'y_pred'. For the confusion matrix to have the correct shape, use the 'labels' parameter to pass all known labels.\n",
      "  warnings.warn(\n"
     ]
    },
    {
     "data": {
      "image/png": "[encoded data removed]",
      "text/plain": [
       "<Figure size 1000x700 with 2 Axes>"
      ]
     },
     "metadata": {},
     "output_type": "display_data"
    }
   ],
   "source": [
    "from sklearn.metrics import accuracy_score, classification_report, confusion_matrix\n",
    "import matplotlib.pyplot as plt\n",
    "import seaborn as sns\n",
    "\n",
    "# Make predictions on the test set\n",
    "y_pred = model.predict(X_test)\n",
    "\n",
    "# Evaluate the model performance\n",
    "acc = accuracy_score(y_test, y_pred)\n",
    "print(f'Accuracy of the Naive Bayes model: {acc:.2f}')\n",
    "\n",
    "# Classification report\n",
    "print('Classification Report:')\n",
    "print(classification_report(y_test, y_pred))\n",
    "\n",
    "# Confusion Matrix\n",
    "cm = confusion_matrix(y_test, y_pred)\n",
    "\n",
    "# Plot the confusion matrix using a heatmap\n",
    "plt.figure(figsize=(10, 7))\n",
    "sns.heatmap(cm, annot=True, fmt='d', cmap='Blues', xticklabels=model.classes_, yticklabels=model.classes_)\n",
    "plt.xlabel('Predicted Genre')\n",
    "plt.ylabel('True Genre')\n",
    "plt.title('Confusion Matrix of Genre Prediction')\n",
    "plt.tight_layout()\n",
    "# Save the plot as an image\n",
    "plt.savefig('confusion_matrix.png')  # You can specify a full path if needed\n",
    "\n",
    "# Show the plot\n",
    "plt.show()\n",
    "plt.show()\n"
   ]
  }
 ],
 "metadata": {
  "kernelspec": {
   "display_name": ".conda",
   "language": "python",
   "name": "python3"
  },
  "language_info": {
   "codemirror_mode": {
    "name": "ipython",
    "version": 3
   },
   "file_extension": ".py",
   "mimetype": "text/x-python",
   "name": "python",
   "nbconvert_exporter": "python",
   "pygments_lexer": "ipython3",
   "version": "3.12.9"
  }
 },
 "nbformat": 4,
 "nbformat_minor": 5
}
