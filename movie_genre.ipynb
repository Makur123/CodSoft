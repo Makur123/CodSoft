{
 "cells": [
  {
   "cell_type": "code",
   "execution_count": 14,
   "id": "37c71c5b",
   "metadata": {},
   "outputs": [
    {
     "name": "stdout",
     "output_type": "stream",
     "text": [
      "Requirement already satisfied: SVM in c:\\users\\dhuor\\codsoft\\.conda\\lib\\site-packages (0.1.0)\n",
      "Requirement already satisfied: requests in c:\\users\\dhuor\\codsoft\\.conda\\lib\\site-packages (from SVM) (2.32.3)\n",
      "Requirement already satisfied: colorama in c:\\users\\dhuor\\codsoft\\.conda\\lib\\site-packages (from SVM) (0.4.6)\n",
      "Requirement already satisfied: xmltodict in c:\\users\\dhuor\\codsoft\\.conda\\lib\\site-packages (from SVM) (0.14.2)\n",
      "Requirement already satisfied: charset-normalizer<4,>=2 in c:\\users\\dhuor\\codsoft\\.conda\\lib\\site-packages (from requests->SVM) (3.4.1)\n",
      "Requirement already satisfied: idna<4,>=2.5 in c:\\users\\dhuor\\codsoft\\.conda\\lib\\site-packages (from requests->SVM) (3.10)\n",
      "Requirement already satisfied: urllib3<3,>=1.21.1 in c:\\users\\dhuor\\codsoft\\.conda\\lib\\site-packages (from requests->SVM) (2.3.0)\n",
      "Requirement already satisfied: certifi>=2017.4.17 in c:\\users\\dhuor\\codsoft\\.conda\\lib\\site-packages (from requests->SVM) (2025.1.31)\n"
     ]
    }
   ],
   "source": [
    "\n",
    "\n",
    "!pip install SVM\n",
    "\n"
   ]
  },
  {
   "cell_type": "markdown",
   "id": "3c4d3423",
   "metadata": {},
   "source": [
    "\n",
    "***Movie Genre Classification using TF-IDF and Naive Bayes***"
   ]
  },
  {
   "cell_type": "markdown",
   "id": "af260c24",
   "metadata": {},
   "source": [
    "Aim is to build a machine learning model to predict the genre of a movie based on its plot summary or textual information. To achieve this, we will leverage natural language processing (NLP) techniques, specifically TF-IDF (Term Frequency-Inverse Document Frequency), in conjunction with the Naive Bayes classification algorithm.\n",
    "\n",
    "The primary goal is to create a model that can automatically assign one or more genres to a movie based on the textual description provided. This can be valuable for categorizing and organizing movies in databases, recommendation systems, and content filtering."
   ]
  },
  {
   "cell_type": "markdown",
   "id": "0bbcdaaa",
   "metadata": {},
   "source": [
    "Importing Libaries\n"
   ]
  },
  {
   "cell_type": "code",
   "execution_count": 1,
   "id": "91778c03",
   "metadata": {},
   "outputs": [],
   "source": [
    "\n",
    "import pandas as pd\n",
    "import matplotlib.pyplot as plt\n",
    "import seaborn as sns\n",
    "import re\n",
    "import nltk\n",
    "import string\n",
    "from nltk.corpus import stopwords\n",
    "from nltk.stem import LancasterStemmer\n",
    "from sklearn.feature_extraction.text import TfidfVectorizer\n",
    "from sklearn.model_selection import train_test_split\n",
    "from sklearn.naive_bayes import MultinomialNB\n",
    "from sklearn.metrics import accuracy_score, classification_report\n",
    "\n"
   ]
  },
  {
   "cell_type": "markdown",
   "id": "b1ad6d88",
   "metadata": {},
   "source": [
    "**Load the Data**"
   ]
  },
  {
   "cell_type": "code",
   "execution_count": 12,
   "id": "8297071b",
   "metadata": {},
   "outputs": [
    {
     "name": "stdout",
     "output_type": "stream",
     "text": [
      "   id       name\n",
      "0  28     Action\n",
      "1  12  Adventure\n",
      "2  16  Animation\n",
      "3  35     Comedy\n",
      "4  80      Crime\n"
     ]
    }
   ],
   "source": [
    "import pandas as pd\n",
    "\n",
    "# Load the movie genres file\n",
    "df = pd.read_csv('Movie Genre Dataset/movies_genres.csv')\n",
    "print(df.head())\n"
   ]
  },
  {
   "cell_type": "code",
   "execution_count": null,
   "id": "1fe368b8",
   "metadata": {},
   "outputs": [
    {
     "name": "stdout",
     "output_type": "stream",
     "text": [
      "                      title  \\\n",
      "0  The Shawshank Redemption   \n",
      "1             The Godfather   \n",
      "2     The Godfather Part II   \n",
      "3          Schindler's List   \n",
      "4              12 Angry Men   \n",
      "\n",
      "                                            overview        genre_ids  \n",
      "0  Imprisoned in the 1940s for the double murder ...         [18, 80]  \n",
      "1  Spanning the years 1945 to 1955, a chronicle o...         [18, 80]  \n",
      "2  In the continuing saga of the Corleone crime f...         [18, 80]  \n",
      "3  The true story of how businessman Oskar Schind...  [18, 36, 10752]  \n",
      "4  The defense and the prosecution have rested an...             [18]  \n"
     ]
    }
   ],
   "source": [
    "m_df = pd.read_csv('Movie Genre Dataset/movies_overview.csv')\n",
    "print(df.head())\n"
   ]
  },
  {
   "cell_type": "markdown",
   "id": "202fc1bc",
   "metadata": {},
   "source": [
    "\n",
    "## 2. Data Preprocessing\n",
    "\n",
    "Data preprocessing is a crucial step in preparing the dataset for effective and efficient machine learning. In this project, the primary focus is on cleaning and transforming textual data (plot summaries) and handling the multi-label nature of movie genres.\n",
    "\n",
    "### 2.1 Text Cleaning\n",
    "\n",
    "To make the plot summaries usable for machine learning models, we perform the following text cleaning steps:\n",
    "\n",
    "- **Lowercasing:** Convert all text to lowercase to ensure uniformity.\n",
    "- **Removing Special Characters and Numbers:** Eliminate punctuation, symbols, and numeric characters that do not contribute to semantic meaning.\n",
    "- **Stopwords Removal:** Remove common words like \"the\", \"and\", \"is\", etc., which do not add value to text classification.\n",
    "- **Tokenization:** Split the plot text into individual words (tokens).\n",
    "- **Lemmatization/Stemming:** Reduce words to their root forms (e.g., \"running\" → \"run\") to consolidate similar terms.\n",
    "\n",
    "### 2.2 Genre Encoding\n",
    "\n",
    "Since movies can belong to multiple genres simultaneously, this is treated as a **multi-label classification** problem. To prepare the genre labels:\n",
    "\n",
    "- **One-Hot Encoding:** Each unique genre is represented as a binary column. If a movie belongs to a genre, the corresponding column is marked as `1`, else `0`.\n",
    "\n",
    "Example:\n",
    "\n",
    "| Movie Title     | Action | Comedy | Drama |\n",
    "|------------------|--------|--------|-------|\n",
    "| Avengers         |   1    |   0    |   0   |\n",
    "| The Mask         |   0    |   1    |   0   |\n",
    "| The Pursuit...   |   0    |   0    |   1   |\n",
    "| Life is Beautiful|   0    |   1    |   1   |\n",
    "\n",
    "### 2.3 Train-Test Split\n",
    "\n",
    "To evaluate the model’s generalization capability, the dataset is divided into:\n",
    "\n",
    "- **Training Set:** (e.g., 80%) Used for training the model.\n",
    "- **Test Set:** (e.g., 20%) Used for evaluating the model on unseen data.\n",
    "\n",
    "This ensures that the model performance reflects real-world prediction capability.\n",
    "\n",
    "---\n",
    "\n",
    "This preprocessing pipeline ensures that the textual and categorical data is ready for effective feature extraction and model training in the subsequent stages.\n"
   ]
  },
  {
   "cell_type": "code",
   "execution_count": 17,
   "id": "6ad0c786",
   "metadata": {},
   "outputs": [
    {
     "ename": "KeyError",
     "evalue": "'id'",
     "output_type": "error",
     "traceback": [
      "\u001b[1;31m---------------------------------------------------------------------------\u001b[0m",
      "\u001b[1;31mKeyError\u001b[0m                                  Traceback (most recent call last)",
      "File \u001b[1;32mc:\\Users\\dhuor\\CodSoft\\.conda\\Lib\\site-packages\\pandas\\core\\indexes\\base.py:3805\u001b[0m, in \u001b[0;36mIndex.get_loc\u001b[1;34m(self, key)\u001b[0m\n\u001b[0;32m   3804\u001b[0m \u001b[38;5;28;01mtry\u001b[39;00m:\n\u001b[1;32m-> 3805\u001b[0m     \u001b[38;5;28;01mreturn\u001b[39;00m \u001b[38;5;28mself\u001b[39m\u001b[38;5;241m.\u001b[39m_engine\u001b[38;5;241m.\u001b[39mget_loc(casted_key)\n\u001b[0;32m   3806\u001b[0m \u001b[38;5;28;01mexcept\u001b[39;00m \u001b[38;5;167;01mKeyError\u001b[39;00m \u001b[38;5;28;01mas\u001b[39;00m err:\n",
      "File \u001b[1;32mindex.pyx:167\u001b[0m, in \u001b[0;36mpandas._libs.index.IndexEngine.get_loc\u001b[1;34m()\u001b[0m\n",
      "File \u001b[1;32mindex.pyx:196\u001b[0m, in \u001b[0;36mpandas._libs.index.IndexEngine.get_loc\u001b[1;34m()\u001b[0m\n",
      "File \u001b[1;32mpandas\\\\_libs\\\\hashtable_class_helper.pxi:7081\u001b[0m, in \u001b[0;36mpandas._libs.hashtable.PyObjectHashTable.get_item\u001b[1;34m()\u001b[0m\n",
      "File \u001b[1;32mpandas\\\\_libs\\\\hashtable_class_helper.pxi:7089\u001b[0m, in \u001b[0;36mpandas._libs.hashtable.PyObjectHashTable.get_item\u001b[1;34m()\u001b[0m\n",
      "\u001b[1;31mKeyError\u001b[0m: 'id'",
      "\nThe above exception was the direct cause of the following exception:\n",
      "\u001b[1;31mKeyError\u001b[0m                                  Traceback (most recent call last)",
      "Cell \u001b[1;32mIn[17], line 1\u001b[0m\n\u001b[1;32m----> 1\u001b[0m genre_mapping \u001b[38;5;241m=\u001b[39m \u001b[38;5;28mdict\u001b[39m(\u001b[38;5;28mzip\u001b[39m(df[\u001b[38;5;124m'\u001b[39m\u001b[38;5;124mid\u001b[39m\u001b[38;5;124m'\u001b[39m], df[\u001b[38;5;124m'\u001b[39m\u001b[38;5;124mname\u001b[39m\u001b[38;5;124m'\u001b[39m]))\n",
      "File \u001b[1;32mc:\\Users\\dhuor\\CodSoft\\.conda\\Lib\\site-packages\\pandas\\core\\frame.py:4102\u001b[0m, in \u001b[0;36mDataFrame.__getitem__\u001b[1;34m(self, key)\u001b[0m\n\u001b[0;32m   4100\u001b[0m \u001b[38;5;28;01mif\u001b[39;00m \u001b[38;5;28mself\u001b[39m\u001b[38;5;241m.\u001b[39mcolumns\u001b[38;5;241m.\u001b[39mnlevels \u001b[38;5;241m>\u001b[39m \u001b[38;5;241m1\u001b[39m:\n\u001b[0;32m   4101\u001b[0m     \u001b[38;5;28;01mreturn\u001b[39;00m \u001b[38;5;28mself\u001b[39m\u001b[38;5;241m.\u001b[39m_getitem_multilevel(key)\n\u001b[1;32m-> 4102\u001b[0m indexer \u001b[38;5;241m=\u001b[39m \u001b[38;5;28mself\u001b[39m\u001b[38;5;241m.\u001b[39mcolumns\u001b[38;5;241m.\u001b[39mget_loc(key)\n\u001b[0;32m   4103\u001b[0m \u001b[38;5;28;01mif\u001b[39;00m is_integer(indexer):\n\u001b[0;32m   4104\u001b[0m     indexer \u001b[38;5;241m=\u001b[39m [indexer]\n",
      "File \u001b[1;32mc:\\Users\\dhuor\\CodSoft\\.conda\\Lib\\site-packages\\pandas\\core\\indexes\\base.py:3812\u001b[0m, in \u001b[0;36mIndex.get_loc\u001b[1;34m(self, key)\u001b[0m\n\u001b[0;32m   3807\u001b[0m     \u001b[38;5;28;01mif\u001b[39;00m \u001b[38;5;28misinstance\u001b[39m(casted_key, \u001b[38;5;28mslice\u001b[39m) \u001b[38;5;129;01mor\u001b[39;00m (\n\u001b[0;32m   3808\u001b[0m         \u001b[38;5;28misinstance\u001b[39m(casted_key, abc\u001b[38;5;241m.\u001b[39mIterable)\n\u001b[0;32m   3809\u001b[0m         \u001b[38;5;129;01mand\u001b[39;00m \u001b[38;5;28many\u001b[39m(\u001b[38;5;28misinstance\u001b[39m(x, \u001b[38;5;28mslice\u001b[39m) \u001b[38;5;28;01mfor\u001b[39;00m x \u001b[38;5;129;01min\u001b[39;00m casted_key)\n\u001b[0;32m   3810\u001b[0m     ):\n\u001b[0;32m   3811\u001b[0m         \u001b[38;5;28;01mraise\u001b[39;00m InvalidIndexError(key)\n\u001b[1;32m-> 3812\u001b[0m     \u001b[38;5;28;01mraise\u001b[39;00m \u001b[38;5;167;01mKeyError\u001b[39;00m(key) \u001b[38;5;28;01mfrom\u001b[39;00m \u001b[38;5;21;01merr\u001b[39;00m\n\u001b[0;32m   3813\u001b[0m \u001b[38;5;28;01mexcept\u001b[39;00m \u001b[38;5;167;01mTypeError\u001b[39;00m:\n\u001b[0;32m   3814\u001b[0m     \u001b[38;5;66;03m# If we have a listlike key, _check_indexing_error will raise\u001b[39;00m\n\u001b[0;32m   3815\u001b[0m     \u001b[38;5;66;03m#  InvalidIndexError. Otherwise we fall through and re-raise\u001b[39;00m\n\u001b[0;32m   3816\u001b[0m     \u001b[38;5;66;03m#  the TypeError.\u001b[39;00m\n\u001b[0;32m   3817\u001b[0m     \u001b[38;5;28mself\u001b[39m\u001b[38;5;241m.\u001b[39m_check_indexing_error(key)\n",
      "\u001b[1;31mKeyError\u001b[0m: 'id'"
     ]
    }
   ],
   "source": [
    "genre_mapping = dict(zip(df['id'], df['name']))"
   ]
  }
 ],
 "metadata": {
  "kernelspec": {
   "display_name": ".conda",
   "language": "python",
   "name": "python3"
  },
  "language_info": {
   "codemirror_mode": {
    "name": "ipython",
    "version": 3
   },
   "file_extension": ".py",
   "mimetype": "text/x-python",
   "name": "python",
   "nbconvert_exporter": "python",
   "pygments_lexer": "ipython3",
   "version": "3.12.9"
  }
 },
 "nbformat": 4,
 "nbformat_minor": 5
}
